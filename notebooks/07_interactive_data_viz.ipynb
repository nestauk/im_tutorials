{
 "cells": [
  {
   "cell_type": "markdown",
   "metadata": {},
   "source": [
    "# Interactive Innovation Mapping with Python\n",
    "\n",
    "Bring some life to your innovation mapping notebook analysis with interactive data viz! 🕹\n",
    "\n",
    "---\n",
    "\n",
    "This tutorial covers a few examples of interactive data visualisation with Python that can be used to create rich analysis notebooks or as inline prototypes for web visualisations.\n",
    "\n",
    "In this tutorial, we are going to be based on Bokeh and will make use of HoloViews, GeoViews and Datashader. There are many options for interactive data visualisation with Python however, including Altair, Plotly, Dash, and even Matplotlib, so try them out too!"
   ]
  },
  {
   "cell_type": "markdown",
   "metadata": {},
   "source": [
    "## Preamble"
   ]
  },
  {
   "cell_type": "code",
   "execution_count": null,
   "metadata": {},
   "outputs": [],
   "source": [
    "%load_ext autoreload\n",
    "%autoreload 2\n",
    "# install im_tutorial package\n",
    "# !pip install git+https://github.com/nestauk/im_tutorials.git"
   ]
  },
  {
   "cell_type": "code",
   "execution_count": null,
   "metadata": {},
   "outputs": [],
   "source": [
    "# useful Python tools\n",
    "import itertools\n",
    "import collections\n",
    "\n",
    "# matplotlib for static plots\n",
    "import matplotlib.pyplot as plt\n",
    "# networkx for networks\n",
    "import networkx as nx\n",
    "# numpy for mathematical functions\n",
    "import numpy as np\n",
    "# pandas for handling tabular data\n",
    "import pandas as pd\n",
    "# seaborn for pretty statistical plots\n",
    "import seaborn as sns\n",
    "\n",
    "pd.set_option('max_columns', 99)\n",
    "\n",
    "# basic bokeh imports for an interactive scatter plot or line chart\n",
    "from bokeh.io import show, output_notebook\n",
    "from bokeh.plotting import figure\n",
    "from bokeh.models import ColumnDataSource, Circle, Line\n",
    "\n",
    "# NB: If using Google Colab, this function must be run at \n",
    "# the end of any cell that you want to display a bokeh plot.\n",
    "# If using Jupyter, then this line need only appear once at\n",
    "# the start of the notebook.\n",
    "output_notebook()"
   ]
  },
  {
   "cell_type": "markdown",
   "metadata": {},
   "source": [
    "## Import Data"
   ]
  },
  {
   "cell_type": "code",
   "execution_count": null,
   "metadata": {},
   "outputs": [],
   "source": [
    "# The im_tutorials datasets module can be used to easily load datasets.\n",
    "from im_tutorials.data.gtr import gtr_table, gtr_link_table, gtr_table_list\n",
    "from im_tutorials.data.sdg import sdg_web_articles"
   ]
  },
  {
   "cell_type": "markdown",
   "metadata": {},
   "source": [
    "## SDG Classifier"
   ]
  },
  {
   "cell_type": "code",
   "execution_count": null,
   "metadata": {},
   "outputs": [],
   "source": [
    "df_sdg = sdg_web_articles()"
   ]
  },
  {
   "cell_type": "code",
   "execution_count": null,
   "metadata": {},
   "outputs": [],
   "source": [
    "sdg_definitions = {\n",
    "     1: '1. No Poverty',\n",
    "     2: '2. Zero Hunger',\n",
    "     3: '3. Good Health & Well-being',\n",
    "     4: '4. Quality Education',\n",
    "     5: '5. Gender Equality',\n",
    "     6: '6. Clean Water & Sanitation',\n",
    "     7: '7. Affordable & Clean Energy',\n",
    "     8: '8. Decent Work & Economic Growth',\n",
    "     9: '9. Industry, Innovation & Infrastructure',\n",
    "     10: '10.  Reduced Inequalities',\n",
    "     11: '11.  Sustainable Cities & Communities',\n",
    "     12: '12.  Responsible Consumption & Production',\n",
    "     13: '13.  Climate Action',\n",
    "     14: '14.  Life Below Water',\n",
    "     15: '15.  Life on Land',\n",
    "     16: '16.  Peace, Justice & Strong Institutions',\n",
    "     17: '17.  Partnerships for the Goals'\n",
    "}"
   ]
  },
  {
   "cell_type": "code",
   "execution_count": null,
   "metadata": {},
   "outputs": [],
   "source": [
    "df_sdg.head()"
   ]
  },
  {
   "cell_type": "code",
   "execution_count": null,
   "metadata": {},
   "outputs": [],
   "source": [
    "def remove_goal(l, goal=17):\n",
    "    new_goals = [g for g in l if g != goal]\n",
    "    return new_goals\n",
    "\n",
    "df_sdg['sdg_goals'] = df_sdg['sdg_goals'].apply(remove_goal)"
   ]
  },
  {
   "cell_type": "code",
   "execution_count": null,
   "metadata": {},
   "outputs": [],
   "source": [
    "df_sdg['n_goals'] = [len(x) for x in df_sdg['sdg_goals']]\n",
    "\n",
    "fig, ax = plt.subplots()\n",
    "df_sdg['n_goals'].value_counts().plot.bar(ax=ax)\n",
    "ax.set_title('Number SDGs per Article')\n",
    "ax.set_xlabel('N Goals')\n",
    "ax.set_ylabel('Frequency');"
   ]
  },
  {
   "cell_type": "code",
   "execution_count": null,
   "metadata": {},
   "outputs": [],
   "source": [
    "df_sdg = df_sdg[(df_sdg['n_goals'] > 0) & (df_sdg['n_goals'] < 4)]"
   ]
  },
  {
   "cell_type": "code",
   "execution_count": null,
   "metadata": {},
   "outputs": [],
   "source": [
    "sdg_counts = pd.Series(chain(*df_sdg['sdg_goals'])).map(sdg_definitions).value_counts()\n",
    "\n",
    "fig, ax = plt.subplots()\n",
    "sdg_counts.plot.barh(ax=ax)\n",
    "ax.set_title('Frequency of Goals')\n",
    "ax.set_xlabel('Frequency')\n",
    "ax.set_ylabel('Goal');"
   ]
  },
  {
   "cell_type": "code",
   "execution_count": null,
   "metadata": {},
   "outputs": [],
   "source": [
    "fig, ax = plt.subplots()\n",
    "ax.hist(df_sdg['text'].str.len(), bins=100)\n",
    "ax.set_title('Text Length')\n",
    "ax.set_xlabel('N Characters')\n",
    "ax.set_ylabel('Frequency');"
   ]
  },
  {
   "cell_type": "code",
   "execution_count": null,
   "metadata": {},
   "outputs": [],
   "source": [
    "df_sdg = df_sdg[df_sdg['text'].str.len() > 140]\n",
    "df_sdg = df_sdg.drop_duplicates('text')\n",
    "df_sdg = df_sdg.drop('index', axis=1)\n",
    "df_sdg = df_sdg.reset_index()"
   ]
  },
  {
   "cell_type": "code",
   "execution_count": null,
   "metadata": {},
   "outputs": [],
   "source": [
    "df_sdg.shape"
   ]
  },
  {
   "cell_type": "markdown",
   "metadata": {},
   "source": [
    "### Text Preprocessing"
   ]
  },
  {
   "cell_type": "code",
   "execution_count": null,
   "metadata": {},
   "outputs": [],
   "source": [
    "from im_tutorials.features.text_preprocessing import *"
   ]
  },
  {
   "cell_type": "code",
   "execution_count": null,
   "metadata": {},
   "outputs": [],
   "source": [
    "tokenized = [list(chain(*tokenize_document(document))) for document in df_sdg['text'].values]"
   ]
  },
  {
   "cell_type": "code",
   "execution_count": null,
   "metadata": {},
   "outputs": [],
   "source": [
    "from gensim.models.phrases import Phraser, Phrases"
   ]
  },
  {
   "cell_type": "code",
   "execution_count": null,
   "metadata": {},
   "outputs": [],
   "source": [
    "phrases = Phrases(tokenized, min_count=10)\n",
    "phraser = Phraser(phrases)\n",
    "bigrammed = [phraser[d] for d in tokenized]"
   ]
  },
  {
   "cell_type": "code",
   "execution_count": null,
   "metadata": {},
   "outputs": [],
   "source": [
    "print(len(phraser.phrasegrams))\n",
    "phraser.phrasegrams"
   ]
  },
  {
   "cell_type": "code",
   "execution_count": null,
   "metadata": {},
   "outputs": [],
   "source": [
    "from collections import Counter\n",
    "from itertools import chain\n",
    "\n",
    "term_counts = Counter(chain(*bigrammed))\n",
    "term_counts.most_common(30)"
   ]
  },
  {
   "cell_type": "code",
   "execution_count": null,
   "metadata": {},
   "outputs": [],
   "source": [
    "stop_words = ['development', 'sdg', 'new', 'global', 'also', 'including', 'support', 'international',\n",
    "             'report', 'implementation', 'national', 'said', 'agenda', 'meeting', 'regional']"
   ]
  },
  {
   "cell_type": "code",
   "execution_count": null,
   "metadata": {},
   "outputs": [],
   "source": [
    "bigrammed = [' '.join([t for t in d if t not in stop_words]) for d in bigrammed]"
   ]
  },
  {
   "cell_type": "code",
   "execution_count": null,
   "metadata": {},
   "outputs": [],
   "source": [
    "bigrammed[0]"
   ]
  },
  {
   "cell_type": "code",
   "execution_count": null,
   "metadata": {},
   "outputs": [],
   "source": [
    "from sklearn.feature_extraction.text import TfidfVectorizer\n",
    "from sklearn.decomposition import TruncatedSVD\n",
    "from sklearn.manifold import TSNE, Isomap"
   ]
  },
  {
   "cell_type": "code",
   "execution_count": null,
   "metadata": {},
   "outputs": [],
   "source": [
    "tfidf = TfidfVectorizer(bigrammed, min_df=10, max_df=0.5)\n",
    "tfidf_vecs = tfidf.fit_transform(bigrammed)\n",
    "svd = TruncatedSVD(n_components=30)\n",
    "svd_vecs = svd.fit_transform(tfidf_vecs)"
   ]
  },
  {
   "cell_type": "code",
   "execution_count": null,
   "metadata": {},
   "outputs": [],
   "source": [
    "tsne = TSNE(n_components=2)\n",
    "tsne_vecs = tsne.fit_transform(svd_vecs)"
   ]
  },
  {
   "cell_type": "code",
   "execution_count": null,
   "metadata": {},
   "outputs": [],
   "source": [
    "from bokeh.models import HoverTool\n",
    "from bokeh.palettes import Category20_16"
   ]
  },
  {
   "cell_type": "code",
   "execution_count": null,
   "metadata": {},
   "outputs": [],
   "source": [
    "df_sdg.index"
   ]
  },
  {
   "cell_type": "code",
   "execution_count": null,
   "metadata": {},
   "outputs": [],
   "source": [
    "single_goals = (df_sdg[df_sdg['n_goals'] == 1]).index.values\n",
    "tsne_vecs_single = tsne_vecs[single_goals]\n",
    "goal_labels_single = [g[0] for g in df_sdg['sdg_goals'][single_goals]]\n",
    "titles_single = df_sdg['title'][single_goals].values"
   ]
  },
  {
   "cell_type": "code",
   "execution_count": null,
   "metadata": {},
   "outputs": [],
   "source": [
    "colors = [Category20_16[g-1] for g in goal_labels_single]\n",
    "\n",
    "cds = ColumnDataSource(data={\n",
    "    'tsne_0': tsne_vecs[:, 0][single_goals],\n",
    "    'tsne_1': tsne_vecs[:, 1][single_goals],\n",
    "    'color': colors,\n",
    "    'goal': [sdg_definitions[g] for g in goal_labels_single],\n",
    "    'title': titles_single,\n",
    "    'id': single_goals\n",
    "})\n",
    "\n",
    "p = figure(width=900, title='TSNE Plot of Single SDG Article Vectors')\n",
    "\n",
    "hover = HoverTool(tooltips=[('Goal', '@goal'), ('Title', '@title'), ('ID', '@id')])\n",
    "\n",
    "p.circle(source=cds, x='tsne_0', y='tsne_1', color='color', line_width=0, legend='goal', radius=0.4, alpha=0.9)\n",
    "p.add_tools(hover)\n",
    "\n",
    "show(p)\n",
    "# output_notebook()\n"
   ]
  },
  {
   "cell_type": "markdown",
   "metadata": {},
   "source": [
    "## GtR Projects"
   ]
  },
  {
   "cell_type": "code",
   "execution_count": null,
   "metadata": {},
   "outputs": [],
   "source": [
    "gtr_projects_df = gtr_table('projects')\n",
    "gtr_funds_df = gtr_table('funds')\n",
    "gtr_funds_link_table = gtr_link_table('funds')"
   ]
  },
  {
   "cell_type": "markdown",
   "metadata": {},
   "source": [
    "- Join funding table to link table to get project ids. Groupby project to get start and end date, sum of funding.\n",
    "- Group leads and collaborators and create network\n",
    "- Join with project descriptions and make collaboration network with SDGs"
   ]
  },
  {
   "cell_type": "code",
   "execution_count": null,
   "metadata": {},
   "outputs": [],
   "source": [
    "gtr_funds_df = gtr_funds_df.merge(gtr_funds_link_table, left_on='id', right_on='id')\n",
    "gtr_funds_df = gtr_funds_df.drop_duplicates(['project_id', 'amount'])"
   ]
  },
  {
   "cell_type": "code",
   "execution_count": null,
   "metadata": {},
   "outputs": [],
   "source": [
    "gtr_funds_df.head()"
   ]
  },
  {
   "cell_type": "code",
   "execution_count": null,
   "metadata": {},
   "outputs": [],
   "source": [
    "print('Earliest start date:', gtr_funds_df['start'].min())\n",
    "print('Earliest end date:', gtr_funds_df['end'].min())\n",
    "print('\\n')\n",
    "print('Latest start date:', gtr_funds_df['start'].max())\n",
    "print('Latest end date:', gtr_funds_df['end'].max())"
   ]
  },
  {
   "cell_type": "code",
   "execution_count": null,
   "metadata": {},
   "outputs": [],
   "source": [
    "gtr_funds_df['start'].dt.year.value_counts()[:15]"
   ]
  },
  {
   "cell_type": "code",
   "execution_count": null,
   "metadata": {},
   "outputs": [],
   "source": [
    "gtr_funds_df['end'].dt.year.value_counts()"
   ]
  },
  {
   "cell_type": "code",
   "execution_count": null,
   "metadata": {},
   "outputs": [],
   "source": [
    "min_start_year = 2006\n",
    "max_start_year = 2019\n",
    "max_end_year = 2030\n",
    "\n",
    "gtr_funds_df = gtr_funds_df[(gtr_funds_df['start'].dt.year >= min_start_year) & \n",
    "                            (gtr_funds_df['start'].dt.year < max_end_year)]\n",
    "gtr_funds_df = gtr_funds_df[(gtr_funds_df['end'].dt.year <= max_end_year)]"
   ]
  },
  {
   "cell_type": "code",
   "execution_count": null,
   "metadata": {},
   "outputs": [],
   "source": [
    "# duration = gtr_funds_df['end'] - gtr_funds_df['start']\n",
    "\n",
    "# fig, ax = plt.subplots(ncols=2, figsize=(10,4))\n",
    "# ax[0].hist(duration.dt.days / 365.25, bins=100)\n",
    "# ax[1].scatter(duration.dt.days / 365.25, np.log10(gtr_funds_df['amount']), alpha=0.1)"
   ]
  },
  {
   "cell_type": "code",
   "execution_count": null,
   "metadata": {},
   "outputs": [],
   "source": [
    "gtr_projects_funds_df = gtr_projects_df.merge(\n",
    "    gtr_funds_df, left_on='id', right_on='project_id', how='left')\n",
    "\n",
    "gtr_project_funds_df = gtr_projects_funds_df.drop_duplicates(subset=['project_id'])\n",
    "gtr_project_funds_df['start_year'] = gtr_project_funds_df['start_y'].dt.year"
   ]
  },
  {
   "cell_type": "code",
   "execution_count": null,
   "metadata": {},
   "outputs": [],
   "source": [
    "rolling_window = 3\n",
    "\n",
    "gtr_project_funds_df['start_year'] = gtr_project_funds_df['start_y'].dt.year\n",
    "\n",
    "# group funds by start of year\n",
    "grouper = pd.Grouper(key='start_y', freq='YS')\n",
    "amount_year_sum = gtr_project_funds_df.groupby([grouper, 'leadFunder'])['amount'].sum()\n",
    "amount_year_sum = amount_year_sum.loc[\n",
    "    pd.to_datetime('2006-01-01'):pd.to_datetime('2018-01-01')].unstack()\n",
    "\n",
    "amount_year_sum_rolling = amount_year_sum.rolling(rolling_window).mean()"
   ]
  },
  {
   "cell_type": "code",
   "execution_count": null,
   "metadata": {},
   "outputs": [],
   "source": [
    "fig, ax = plt.subplots(figsize=(10, 6))\n",
    "ax.plot(amount_year_sum_rolling, marker='o')\n",
    "ax.legend(amount_year_sum_rolling.columns)\n",
    "ax.set_xlabel('Year')\n",
    "ax.set_ylabel('Total Funding (£)')\n",
    "ax.set_title('Total Funding Over Time');"
   ]
  },
  {
   "cell_type": "code",
   "execution_count": null,
   "metadata": {},
   "outputs": [],
   "source": [
    "from bokeh.palettes import Category10_9\n",
    "from bokeh.models import PrintfTickFormatter, HoverTool"
   ]
  },
  {
   "cell_type": "code",
   "execution_count": null,
   "metadata": {},
   "outputs": [],
   "source": [
    "# create a figure object with \n",
    "p = figure(width=550, height=350, x_axis_type='datetime',\n",
    "          title='Total Awards by Funder over Time')\n",
    "\n",
    "# loop through columns, select color, plot line and circles\n",
    "for i, c in enumerate(amount_year_sum.columns):\n",
    "    color = Category10_9[i]\n",
    "    p.line(\n",
    "        x=amount_year_sum_rolling.index.values, \n",
    "        y=amount_year_sum_rolling[c], \n",
    "        legend=c,\n",
    "        color=color,\n",
    "        line_width=2,\n",
    "        alpha=0.7,\n",
    "        name=c,\n",
    "        muted_alpha=0.1,\n",
    "        muted_color=color\n",
    "          )\n",
    "    p.circle(\n",
    "        x=amount_year_sum_rolling.index.values, \n",
    "        y=amount_year_sum_rolling[c], \n",
    "        legend=c,\n",
    "        color=color, \n",
    "        name=c,\n",
    "        muted_alpha=0.1, \n",
    "        muted_color=color\n",
    "    )\n",
    "\n",
    "# build a hover tool that will display funding amount (y value), \n",
    "# year (x value) and funding amount\n",
    "hover = HoverTool(tooltips=[('Amount', '£@y{( 0.00 a)}'),\n",
    "                            ('Year', '@x{%F}'),\n",
    "                            ('Funder', '$name')],\n",
    "                  line_policy='nearest',\n",
    "                  formatters={'x': 'datetime'}\n",
    "                 )\n",
    "p.add_tools(hover)\n",
    "\n",
    "# add labels and formatting\n",
    "p.xaxis.axis_label = 'Year'\n",
    "p.yaxis.axis_label = 'Total Funding'    \n",
    "p.yaxis[0].formatter = PrintfTickFormatter(format=\"£%.1e\")\n",
    "# add interactive legend\n",
    "p.legend.click_policy = \"mute\"\n",
    "p.legend.location = 'top_left'\n",
    "p.legend.label_text_font_size = '6pt'\n",
    "    \n",
    "show(p)"
   ]
  },
  {
   "cell_type": "markdown",
   "metadata": {},
   "source": [
    "### Bokeh Scatter (Circle)"
   ]
  },
  {
   "cell_type": "code",
   "execution_count": null,
   "metadata": {},
   "outputs": [],
   "source": [
    "duration = (gtr_funds_df['end'] - gtr_funds_df['start']).dt.days / 365.25\n",
    "amount = gtr_funds_df['amount']\n",
    "\n",
    "p = figure(width=550, height=350, y_axis_type=\"log\")\n",
    "p.grid.visible = False\n",
    "\n",
    "p.circle(x=duration, y=amount, size=1, alpha=0.05)\n",
    "\n",
    "p.xaxis.axis_label = 'Duration (years)'\n",
    "p.yaxis.axis_label = 'Funding Amount (£)'\n",
    "\n",
    "p.add_tools(HoverTool(\n",
    "    tooltips=[(\"Duration\", \"$x\"), (\"Amount\", \"$y\")],\n",
    "    mode=\"mouse\", point_policy=\"follow_mouse\"\n",
    "))\n",
    "\n",
    "show(p)"
   ]
  },
  {
   "cell_type": "markdown",
   "metadata": {},
   "source": [
    "## Declarative Hexbin"
   ]
  },
  {
   "cell_type": "code",
   "execution_count": null,
   "metadata": {},
   "outputs": [],
   "source": [
    "import holoviews as hv\n",
    "hv.extension('bokeh')"
   ]
  },
  {
   "cell_type": "code",
   "execution_count": null,
   "metadata": {},
   "outputs": [],
   "source": [
    "df = pd.DataFrame({'Project Duration (years)': duration,\n",
    "                   'Funding Amount (log10 £)': np.log10(amount[mask])})\n",
    "\n",
    "hx = hv.HexTiles(df)\n",
    "hx.opts(width=550, height=350, logz=True, yformatter='£10^%d',\n",
    "        tools=['hover'], hover_color='pink', hover_alpha=0.7,\n",
    "        title='Funding Amount by Project Duration')"
   ]
  },
  {
   "cell_type": "markdown",
   "metadata": {},
   "source": [
    "To see the plotting options for a specific Holoviews chart type, you can interrogate the object with `?` notation.\n",
    "\n",
    "```python\n",
    "from holoviews import opts\n",
    "opts.HexTiles?\n",
    "```"
   ]
  },
  {
   "cell_type": "markdown",
   "metadata": {},
   "source": [
    "## Maps"
   ]
  },
  {
   "cell_type": "code",
   "execution_count": null,
   "metadata": {},
   "outputs": [],
   "source": [
    "gtr_org_locs_df = gtr_table('organisations_locations')\n",
    "gtr_org_locs_df.head()"
   ]
  },
  {
   "cell_type": "code",
   "execution_count": null,
   "metadata": {},
   "outputs": [],
   "source": [
    "gtr_org_locs_df = gtr_org_locs_df[(~pd.isnull(df_org_locs['latitude'])) &\n",
    "                                  (~pd.isnull(df_org_locs)['longitude'])]"
   ]
  },
  {
   "cell_type": "markdown",
   "metadata": {},
   "source": [
    "### Folium"
   ]
  },
  {
   "cell_type": "code",
   "execution_count": null,
   "metadata": {},
   "outputs": [],
   "source": [
    "from im_tutorials.data.gis import country_basic_info\n",
    "country_df = country_basic_info()"
   ]
  },
  {
   "cell_type": "code",
   "execution_count": null,
   "metadata": {},
   "outputs": [],
   "source": [
    "import folium\n",
    "from folium.plugins import MarkerCluster, FastMarkerCluster"
   ]
  },
  {
   "cell_type": "code",
   "execution_count": null,
   "metadata": {},
   "outputs": [],
   "source": [
    "lat_c, lng_c = country_df.set_index('alpha3Code').loc['GBR']['latlng']\n",
    "\n",
    "cluster_map = folium.Map(location=[lat_c, lng_c], zoom_start=5, width=550, height=550)\n",
    "cluster_map.add_child(FastMarkerCluster(data=gtr_org_locs_df[['latitude', 'longitude']].values.tolist()))"
   ]
  },
  {
   "cell_type": "markdown",
   "metadata": {},
   "source": [
    "**Tasks**\n",
    "\n",
    "1. Change the marker icon.\n",
    "2. Remove the organisations at duplicate addresses."
   ]
  },
  {
   "cell_type": "markdown",
   "metadata": {},
   "source": [
    "## Datashader"
   ]
  },
  {
   "cell_type": "markdown",
   "metadata": {},
   "source": [
    "Does one job. Does it well."
   ]
  },
  {
   "cell_type": "code",
   "execution_count": null,
   "metadata": {},
   "outputs": [],
   "source": [
    "import datashader as ds, datashader.transfer_functions as tf, numpy as np\n",
    "from datashader import spatial\n",
    "from functools import partial\n",
    "from datashader.utils import export_image\n",
    "from datashader.colors import colormap_select, Greys9"
   ]
  },
  {
   "cell_type": "code",
   "execution_count": null,
   "metadata": {},
   "outputs": [],
   "source": [
    "from holoviews.element import tiles\n",
    "from holoviews.operation.datashader import datashade"
   ]
  },
  {
   "cell_type": "code",
   "execution_count": null,
   "metadata": {},
   "outputs": [],
   "source": [
    "from datashader.utils import lnglat_to_meters as webm"
   ]
  },
  {
   "cell_type": "code",
   "execution_count": null,
   "metadata": {},
   "outputs": [],
   "source": [
    "gtr_org_locs_df['easting'], gtr_org_locs_df['northing'] = webm(\n",
    "    gtr_org_locs_df['longitude'], gtr_org_locs_df['latitude'])"
   ]
  },
  {
   "cell_type": "code",
   "execution_count": null,
   "metadata": {},
   "outputs": [],
   "source": [
    "from holoviews.element import tiles\n",
    "from holoviews.operation.datashader import datashade\n",
    "from holoviews.streams import RangeXY\n",
    "from colorcet import kbc"
   ]
  },
  {
   "cell_type": "code",
   "execution_count": null,
   "metadata": {},
   "outputs": [],
   "source": [
    "gtr_org_locs_singles = gtr_org_locs_df.drop_duplicates(subset=['latitude', 'longitude'])"
   ]
  },
  {
   "cell_type": "code",
   "execution_count": null,
   "metadata": {},
   "outputs": [],
   "source": [
    "cmap = kbc"
   ]
  },
  {
   "cell_type": "code",
   "execution_count": null,
   "metadata": {},
   "outputs": [],
   "source": [
    "import geoviews as gv\n",
    "import cartopy.crs as crs"
   ]
  },
  {
   "cell_type": "code",
   "execution_count": null,
   "metadata": {},
   "outputs": [],
   "source": [
    "url = 'https://server.arcgisonline.com/ArcGIS/rest/services/World_Imagery/MapServer/tile/{Z}/{Y}/{X}.jpg'\n",
    "\n",
    "map_tiles = gv.WMTS(url, crs=crs.GOOGLE_MERCATOR)"
   ]
  },
  {
   "cell_type": "code",
   "execution_count": null,
   "metadata": {},
   "outputs": [],
   "source": [
    "from holoviews.operation.datashader import datashade, dynspread"
   ]
  },
  {
   "cell_type": "code",
   "execution_count": null,
   "metadata": {},
   "outputs": [],
   "source": [
    "width=600\n",
    "height=600\n",
    "\n",
    "opts = dict(width=width, height=height, x_sampling=1, y_sampling=1, cmap=cmap, dynamic=False)\n",
    "tile_opts  = dict(width=width, height=height, xaxis=None, yaxis=None, bgcolor='white', show_grid=False)\n",
    "\n",
    "\n",
    "def make_view(x_range, y_range, **kwargs):\n",
    "    tiles = map_tiles.options(alpha=0.5, **tile_opts)\n",
    "    points = hv.Points(gtr_org_locs_singles, ['easting', 'northing'])\n",
    "    d = dynspread(datashade(points, x_range=x_range, y_range=y_range, **opts), shape='circle', threshold=.1)\n",
    "    return d * tiles"
   ]
  },
  {
   "cell_type": "code",
   "execution_count": null,
   "metadata": {},
   "outputs": [],
   "source": [
    "dmap = hv.DynamicMap(make_view, streams=[RangeXY()])\n",
    "plot = hv.renderer('bokeh').instance(mode='server').get_plot(dmap)\n",
    "dmap"
   ]
  },
  {
   "cell_type": "markdown",
   "metadata": {},
   "source": [
    "## Visualising Text"
   ]
  },
  {
   "cell_type": "code",
   "execution_count": null,
   "metadata": {},
   "outputs": [],
   "source": [
    "from sklearn.decomposition import TruncatedSVD\n",
    "from sklearn.manifold import TSNE\n",
    "from sklearn.feature_extraction.text import TfidfVectorizer"
   ]
  },
  {
   "cell_type": "code",
   "execution_count": null,
   "metadata": {},
   "outputs": [],
   "source": [
    "gtr_projects_funds_df['abstractText'].fillna('', inplace=True)\n",
    "gtr_projects_funds_df['techAbstractText'].fillna('', inplace=True)\n",
    "gtr_projects_df['full_text'] = (gtr_projects_funds_df['abstractText'] \n",
    "                                + ' ' \n",
    "                                + gtr_projects_funds_df['techAbstractText'])"
   ]
  },
  {
   "cell_type": "code",
   "execution_count": null,
   "metadata": {},
   "outputs": [],
   "source": [
    "lens = gtr_projects_df['full_text'].str.len()\n",
    "hist = np.histogram(lens, bins=2000)\n",
    "df_hist = pd.DataFrame(hist).T\n",
    "df_hist[0] = df_hist[0].cumsum() / df_hist[0].cumsum().max() * 100\n",
    "df_hist.columns = ['Freq', 'Length']"
   ]
  },
  {
   "cell_type": "code",
   "execution_count": null,
   "metadata": {},
   "outputs": [],
   "source": [
    "hover = HoverTool(\n",
    "    tooltips=[\n",
    "        ('Length', '@{Length}'), \n",
    "        ('Percentile', '@{Freq} %')], \n",
    "    mode='vline')\n",
    "c = hv.Curve(df_hist, 'Length', 'Freq')\n",
    "c.opts(tools=[hover])"
   ]
  },
  {
   "cell_type": "code",
   "execution_count": null,
   "metadata": {},
   "outputs": [],
   "source": [
    "gtr_text_df = gtr_projects_df[gtr_projects_df['full_text'].str.len() > 280]"
   ]
  },
  {
   "cell_type": "code",
   "execution_count": null,
   "metadata": {},
   "outputs": [],
   "source": [
    "gtr_topic_link = gtr_link_table('topic')\n",
    "gtr_topics_df = gtr_table('topic')"
   ]
  },
  {
   "cell_type": "code",
   "execution_count": null,
   "metadata": {},
   "outputs": [],
   "source": [
    "sorted(gtr_topics_df['text'].values)"
   ]
  },
  {
   "cell_type": "code",
   "execution_count": null,
   "metadata": {},
   "outputs": [],
   "source": [
    "gtr_topic_link['id'].value_counts()"
   ]
  },
  {
   "cell_type": "code",
   "execution_count": null,
   "metadata": {},
   "outputs": [],
   "source": [
    "gtr_topics_df.set_index('id').loc['FB535BD0-E265-4C0A-8532-32DCB83A3951']"
   ]
  },
  {
   "cell_type": "code",
   "execution_count": null,
   "metadata": {},
   "outputs": [],
   "source": [
    "topic_id = gtr_topics_df[gtr_topics_df['text'].str.startswith('Tools, tech')].iloc[0]['id']\n",
    "subset_ids = gtr_topic_link[gtr_topic_link['id'] == topic_id]['project_id']\n",
    "topic_projects_df = gtr_projects_df.set_index('id').loc[subset_ids]"
   ]
  },
  {
   "cell_type": "code",
   "execution_count": null,
   "metadata": {},
   "outputs": [],
   "source": [
    "topic_projects_df['leadFunder'].value_counts()"
   ]
  },
  {
   "cell_type": "code",
   "execution_count": null,
   "metadata": {},
   "outputs": [],
   "source": [
    "topic_projects_df = gtr_projects_df.sample(frac=0.05)"
   ]
  },
  {
   "cell_type": "code",
   "execution_count": null,
   "metadata": {},
   "outputs": [],
   "source": [
    "text_vecs = TfidfVectorizer(min_df=10, max_df=.2).fit_transform(topic_projects_df['full_text'])\n",
    "svd_vecs = TruncatedSVD(n_components=30).fit_transform(text_vecs)\n",
    "tsne_vecs = TSNE().fit_transform(svd_vecs)"
   ]
  },
  {
   "cell_type": "code",
   "execution_count": null,
   "metadata": {},
   "outputs": [],
   "source": [
    "s = topic_projects_df['leadFunder'].astype('category').cat.codes"
   ]
  },
  {
   "cell_type": "code",
   "execution_count": null,
   "metadata": {},
   "outputs": [],
   "source": [
    "from bokeh.palettes import Category10_10"
   ]
  },
  {
   "cell_type": "code",
   "execution_count": null,
   "metadata": {},
   "outputs": [],
   "source": [
    "colors = [Category10_10[g] for g in s]\n",
    "\n",
    "cds = ColumnDataSource(data={\n",
    "    'tsne_0': tsne_vecs[:, 0],\n",
    "    'tsne_1': tsne_vecs[:, 1],\n",
    "    'color': colors,\n",
    "    'funder': topic_projects_df['leadFunder'].values,\n",
    "#     'goal': [sdg_definitions[g] for g in goal_labels_single],\n",
    "    'title': topic_projects_df['title'],\n",
    "#     'id': single_goals\n",
    "})\n",
    "\n",
    "p = figure(width=900, title='TSNE Plot of Single SDG Article Vectors')\n",
    "\n",
    "hover = HoverTool(tooltips=[('Funder', '@funder'), ('Title', '@title')])\n",
    "\n",
    "p.circle(source=cds, x='tsne_0', y='tsne_1', color='color', line_width=0, legend='goal', radius=0.4, alpha=0.9)\n",
    "p.add_tools(hover)\n",
    "\n",
    "show(p)\n",
    "# output_note"
   ]
  },
  {
   "cell_type": "code",
   "execution_count": null,
   "metadata": {},
   "outputs": [],
   "source": [
    "gtr_projects_funds_df['full_text'].head()"
   ]
  },
  {
   "cell_type": "code",
   "execution_count": null,
   "metadata": {},
   "outputs": [],
   "source": []
  },
  {
   "cell_type": "markdown",
   "metadata": {},
   "source": [
    "### Organisation Locations"
   ]
  },
  {
   "cell_type": "markdown",
   "metadata": {},
   "source": [
    "### Extras"
   ]
  },
  {
   "cell_type": "code",
   "execution_count": null,
   "metadata": {},
   "outputs": [],
   "source": [
    "def sine_curve(phase, freq):\n",
    "    xvals = [0.1* i for i in range(100)]\n",
    "    return hv.Curve((xvals, [np.sin(phase+freq*x) for x in xvals]))\n",
    "\n",
    "curve_dict = {f:sine_curve(0,f) for f in frequencies}"
   ]
  },
  {
   "cell_type": "code",
   "execution_count": null,
   "metadata": {},
   "outputs": [],
   "source": [
    "def make_multi_line_plot():\n",
    "    \n",
    "\n",
    "hv.NdOverlay(\n",
    "    {c: hv.Path((amount_year_sum.index.values, amount_year_sum[c])) for c in amount_year_sum.columns}).opts(\n",
    "    'Histogram', width=1000, alpha=0.8, muted_alpha=0.1)"
   ]
  },
  {
   "cell_type": "code",
   "execution_count": null,
   "metadata": {},
   "outputs": [],
   "source": [
    "ndoverlay = hv.NdOverlay(curve_dict, kdims='frequency')"
   ]
  },
  {
   "cell_type": "code",
   "execution_count": null,
   "metadata": {},
   "outputs": [],
   "source": [
    "import datashader as ds\n",
    "import datashader.transfer_functions as tf\n",
    "from datashader.layout import random_layout, circular_layout, forceatlas2_layout\n",
    "from datashader.bundling import connect_edges, hammer_bundle"
   ]
  },
  {
   "cell_type": "code",
   "execution_count": null,
   "metadata": {},
   "outputs": [],
   "source": [
    "import networkx as nx"
   ]
  },
  {
   "cell_type": "code",
   "execution_count": null,
   "metadata": {},
   "outputs": [],
   "source": [
    "G = nx.karate_club_graph()"
   ]
  },
  {
   "cell_type": "code",
   "execution_count": null,
   "metadata": {},
   "outputs": [],
   "source": [
    "def nx_layout(graph):\n",
    "    layout = nx.spring_layout(graph)\n",
    "    data = [[node]+layout[node].tolist() for node in graph.nodes]\n",
    "\n",
    "    nodes = pd.DataFrame(data, columns=['id', 'x', 'y'])\n",
    "    nodes.set_index('id', inplace=True)\n",
    "\n",
    "    edges = pd.DataFrame(list(graph.edges), columns=['source', 'target'])\n",
    "    return nodes, edges"
   ]
  },
  {
   "cell_type": "code",
   "execution_count": null,
   "metadata": {},
   "outputs": [],
   "source": [
    "pos_n, pos_e = nx_layout(G)"
   ]
  },
  {
   "cell_type": "code",
   "execution_count": null,
   "metadata": {},
   "outputs": [],
   "source": [
    "def nx_plot(graph, name=\"\"):\n",
    "    print(graph.name, len(graph.edges))\n",
    "    nodes, edges = nx_layout(graph)\n",
    "    \n",
    "    direct = connect_edges(nodes, edges)\n",
    "    bundled_bw005 = hammer_bundle(nodes, edges)\n",
    "    bundled_bw030 = hammer_bundle(nodes, edges, initial_bandwidth=0.07)\n",
    "\n",
    "    return [graphplot(nodes, direct,         graph.name),\n",
    "            graphplot(nodes, bundled_bw005, \"Bundled bw=0.05\"),\n",
    "            graphplot(nodes, bundled_bw030, \"Bundled bw=0.09\")]"
   ]
  },
  {
   "cell_type": "code",
   "execution_count": null,
   "metadata": {},
   "outputs": [],
   "source": [
    "def edgesplot(edges, name=None, canvas=None):\n",
    "    canvas = ds.Canvas(**cvsopts) if canvas is None else canvas\n",
    "    return tf.shade(canvas.line(edges, 'x','y', agg=ds.count()), name=name)\n",
    "    \n",
    "def graphplot(nodes, edges, name=\"\", canvas=None, cat=None):\n",
    "    if canvas is None:\n",
    "        xr = nodes.x.min(), nodes.x.max()\n",
    "        yr = nodes.y.min(), nodes.y.max()\n",
    "        canvas = ds.Canvas(x_range=xr, y_range=yr, **cvsopts)\n",
    "        \n",
    "    np = nodesplot(nodes, name + \" nodes\", canvas, cat)\n",
    "    ep = edgesplot(edges, name + \" edges\", canvas)\n",
    "    return tf.stack(ep, np, how=\"over\", name=name)\n",
    "\n",
    "def nodesplot(nodes, name=None, canvas=None, cat=None):\n",
    "    canvas = ds.Canvas(**cvsopts) if canvas is None else canvas\n",
    "    aggregator=None if cat is None else ds.count_cat(cat)\n",
    "    agg=canvas.points(nodes,'x','y',aggregator)\n",
    "    return tf.spread(tf.shade(agg, cmap=[\"#FF3333\"]), px=3, name=name)"
   ]
  },
  {
   "cell_type": "code",
   "execution_count": null,
   "metadata": {},
   "outputs": [],
   "source": [
    "cvsopts = dict(plot_height=400, plot_width=400)"
   ]
  },
  {
   "cell_type": "code",
   "execution_count": null,
   "metadata": {},
   "outputs": [],
   "source": [
    "from itertools import chain"
   ]
  },
  {
   "cell_type": "code",
   "execution_count": null,
   "metadata": {},
   "outputs": [],
   "source": [
    "plots = [nx_plot(g) for g in [G]]\n",
    "\n",
    "tf.Images(*chain.from_iterable(plots)).cols(3)"
   ]
  },
  {
   "cell_type": "code",
   "execution_count": null,
   "metadata": {},
   "outputs": [],
   "source": [
    "ds = hv.Dataset(amount_year_sum)"
   ]
  },
  {
   "cell_type": "code",
   "execution_count": null,
   "metadata": {},
   "outputs": [],
   "source": [
    "amount_year_sum = amount_year_sum.reset_index()"
   ]
  },
  {
   "cell_type": "code",
   "execution_count": null,
   "metadata": {},
   "outputs": [],
   "source": [
    "scatter = hv.Curve(amount_year_sum, 'start_y', 'EPSRC')"
   ]
  },
  {
   "cell_type": "code",
   "execution_count": null,
   "metadata": {},
   "outputs": [],
   "source": [
    "np.arange(NLINES)[np.newaxis, :]"
   ]
  },
  {
   "cell_type": "code",
   "execution_count": null,
   "metadata": {},
   "outputs": [],
   "source": [
    "hv.NdOverlay(\n",
    "    {c: hv.Path((amount_year_sum.index.values, amount_year_sum[c])) for c in amount_year_sum.columns}).opts(\n",
    "    'Histogram', width=1000, alpha=0.8, muted_alpha=0.1)"
   ]
  },
  {
   "cell_type": "code",
   "execution_count": null,
   "metadata": {},
   "outputs": [],
   "source": [
    "hv.Path(aamount_year_sum.columns, amount_year_sum)"
   ]
  },
  {
   "cell_type": "code",
   "execution_count": null,
   "metadata": {},
   "outputs": [],
   "source": [
    "(np.arange(N), np.random.rand(N, NLINES) + np.arange(NLINES)[np.newaxis, :])"
   ]
  },
  {
   "cell_type": "code",
   "execution_count": null,
   "metadata": {},
   "outputs": [],
   "source": [
    "hv.Path"
   ]
  },
  {
   "cell_type": "code",
   "execution_count": null,
   "metadata": {},
   "outputs": [],
   "source": [
    "hv.help(hv.Path)"
   ]
  },
  {
   "cell_type": "code",
   "execution_count": null,
   "metadata": {},
   "outputs": [],
   "source": [
    "fig, ax = plt.subplots()\n",
    "ax.hist(np.log10(gtr_funds_df[gtr_funds_df['amount'] > 0]\n",
    "                 .groupby('project_id')['amount'].sum()), bins=100);\n",
    "# ax.set_xscale('log')"
   ]
  },
  {
   "cell_type": "markdown",
   "metadata": {},
   "source": [
    "### Datashader Map"
   ]
  },
  {
   "cell_type": "code",
   "execution_count": null,
   "metadata": {},
   "outputs": [],
   "source": []
  },
  {
   "cell_type": "code",
   "execution_count": null,
   "metadata": {},
   "outputs": [],
   "source": [
    "df_gtr = df_gtr[(df_gtr['rel'] == 'LEAD_ORG') |\n",
    "               (df_gtr['rel'] == 'COLLAB_ORG') | \n",
    "               (df_gtr['rel'] == 'PARTICIPANT_ORG')]"
   ]
  },
  {
   "cell_type": "code",
   "execution_count": null,
   "metadata": {},
   "outputs": [],
   "source": [
    "df_gtr.head()"
   ]
  },
  {
   "cell_type": "code",
   "execution_count": null,
   "metadata": {},
   "outputs": [],
   "source": [
    "np.sum(df_gtr['id'].value_counts() > 50)"
   ]
  },
  {
   "cell_type": "code",
   "execution_count": null,
   "metadata": {},
   "outputs": [],
   "source": [
    "df_gtr['rel'].value_counts()"
   ]
  },
  {
   "cell_type": "code",
   "execution_count": null,
   "metadata": {},
   "outputs": [],
   "source": [
    "gtr_df = gtr_df[~pd.isnull(gtr_df['research_topics'])]"
   ]
  },
  {
   "cell_type": "code",
   "execution_count": null,
   "metadata": {},
   "outputs": [],
   "source": [
    "from sklearn.preprocessing import MultiLabelBinarizer\n",
    "from itertools import chain\n",
    "\n",
    "from sklearn.decomposition import TruncatedSVD\n",
    "from sklearn.manifold import TSNE\n",
    "\n",
    "from annoy import AnnoyIndex"
   ]
  },
  {
   "cell_type": "code",
   "execution_count": null,
   "metadata": {},
   "outputs": [],
   "source": [
    "topics = sorted(set(chain(*gtr_df['research_topics'])))\n",
    "mlb = MultiLabelBinarizer(classes=topics)\n",
    "df_topics = pd.DataFrame(mlb.fit_transform(gtr_df['research_topics']), columns=topics)\n",
    "df_topics = df_topics.T"
   ]
  },
  {
   "cell_type": "code",
   "execution_count": null,
   "metadata": {},
   "outputs": [],
   "source": [
    "svd = TruncatedSVD(n_components=30)\n",
    "tsne = TSNE(n_components=2)\n",
    "\n",
    "svd_vecs = svd.fit_transform(df_topics)\n",
    "tsne_vecs = tsne.fit_transform(svd_vecs)"
   ]
  },
  {
   "cell_type": "code",
   "execution_count": null,
   "metadata": {},
   "outputs": [],
   "source": [
    "from gensim.sklearn_api.phrases import PhrasesTransformer"
   ]
  },
  {
   "cell_type": "code",
   "execution_count": null,
   "metadata": {},
   "outputs": [],
   "source": [
    "t = AnnoyIndex(30, 'angular')  # Length of item vector that will be indexed\n",
    "for i in range(df_topics.shape[0]):\n",
    "    t.add_item(i, svd_vecs[i])\n",
    "    \n",
    "t.build(500) # 10 trees"
   ]
  },
  {
   "cell_type": "code",
   "execution_count": null,
   "metadata": {},
   "outputs": [],
   "source": [
    "min_dist = 0.9\n",
    "\n",
    "dists = {}\n",
    "edges = []\n",
    "for i in range(df_topics.shape[0]):\n",
    "    closest = t.get_nns_by_item(i, 5)\n",
    "    source = df_topics.index[closest[0]]\n",
    "    closest = t.get_nns_by_item(i, 5)[1:]\n",
    "    for n in closest:\n",
    "        dist = t.get_distance(i, n)\n",
    "        if dist <= min_dist:\n",
    "            ns = df_topics.index[n]\n",
    "            edge = tuple(sorted([source, ns]))\n",
    "            edges.append(edge)\n",
    "            dists[edge] = dist\n"
   ]
  },
  {
   "cell_type": "code",
   "execution_count": null,
   "metadata": {},
   "outputs": [],
   "source": [
    "from collections import Counter\n",
    "import networkx as nx"
   ]
  },
  {
   "cell_type": "code",
   "execution_count": null,
   "metadata": {},
   "outputs": [],
   "source": [
    "edge_list = []\n",
    "for k, v in Counter(edges).items():\n",
    "    edge_list.append([k[0], k[1], {'weight': dists[k]}])\n",
    "    \n",
    "g = nx.Graph()\n",
    "g.add_edges_from(edge_list)\n",
    "\n",
    "nx.draw(g, node_size=25, weight='weight')"
   ]
  },
  {
   "cell_type": "code",
   "execution_count": null,
   "metadata": {},
   "outputs": [],
   "source": [
    "plt.scatter(tsne_vecs[:, 0], tsne_vecs[:, 1])"
   ]
  },
  {
   "cell_type": "code",
   "execution_count": null,
   "metadata": {},
   "outputs": [],
   "source": []
  },
  {
   "cell_type": "code",
   "execution_count": null,
   "metadata": {},
   "outputs": [],
   "source": [
    "funders_time_df = gtr_df.groupby(['start_year', 'funder_name'])['project_id'].count().unstack().loc[2006:2016]\n",
    "cds = ColumnDataSource.from_df(funders_time_df)"
   ]
  },
  {
   "cell_type": "code",
   "execution_count": null,
   "metadata": {},
   "outputs": [],
   "source": [
    "funders_time_df.shape"
   ]
  },
  {
   "cell_type": "code",
   "execution_count": null,
   "metadata": {},
   "outputs": [],
   "source": [
    "from bokeh.palettes import Category20_11\n",
    "from bokeh.models import HoverTool"
   ]
  },
  {
   "cell_type": "code",
   "execution_count": null,
   "metadata": {},
   "outputs": [],
   "source": [
    "cmap = Category20_11"
   ]
  },
  {
   "cell_type": "code",
   "execution_count": null,
   "metadata": {},
   "outputs": [],
   "source": [
    "x = cmap.pop()"
   ]
  },
  {
   "cell_type": "code",
   "execution_count": null,
   "metadata": {},
   "outputs": [],
   "source": [
    "hover = HoverTool(tooltips=[], mode='vline')\n",
    "\n",
    "p = figure()\n",
    "\n",
    "for i, c in enumerate(funders_time_df.columns):\n",
    "    p.line(source=cds, x='start_year', y=c, line_width=2, alpha=0.9, color=Category20_11[i],\n",
    "          name='x')\n",
    "    hover.tooltips.append((f'{c}', f'@{c}'))\n",
    "p.add_tools(hover)\n",
    "    \n",
    "show(p)"
   ]
  },
  {
   "cell_type": "code",
   "execution_count": null,
   "metadata": {},
   "outputs": [],
   "source": [
    "p = figure"
   ]
  },
  {
   "cell_type": "code",
   "execution_count": null,
   "metadata": {},
   "outputs": [],
   "source": []
  }
 ],
 "metadata": {
  "language_info": {
   "name": "python",
   "pygments_lexer": "ipython3"
  }
 },
 "nbformat": 4,
 "nbformat_minor": 4
}
